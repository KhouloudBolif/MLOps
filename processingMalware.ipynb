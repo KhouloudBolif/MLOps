{
 "cells": [
  {
   "cell_type": "code",
   "execution_count": 1,
   "id": "48037622-5648-47d1-ac03-34de3a4605a1",
   "metadata": {},
   "outputs": [],
   "source": [
    "import pandas as pd"
   ]
  },
  {
   "cell_type": "markdown",
   "id": "a529adaa-d56a-475c-ac34-99ec90605147",
   "metadata": {},
   "source": [
    "<h4>Importation data </h4>"
   ]
  },
  {
   "cell_type": "code",
   "execution_count": 2,
   "id": "0357dd02-c1fb-4398-9d96-a08b8cb5f6f7",
   "metadata": {},
   "outputs": [],
   "source": [
    "# 1. Lire le fichier CSV\n",
    "data = pd.read_csv('MalwareData.csv',delimiter='|')\n"
   ]
  },
  {
   "cell_type": "code",
   "execution_count": 3,
   "id": "c5237116-2be0-4a98-87f2-d4492ceb8cc1",
   "metadata": {},
   "outputs": [
    {
     "data": {
      "text/html": [
       "<div>\n",
       "<style scoped>\n",
       "    .dataframe tbody tr th:only-of-type {\n",
       "        vertical-align: middle;\n",
       "    }\n",
       "\n",
       "    .dataframe tbody tr th {\n",
       "        vertical-align: top;\n",
       "    }\n",
       "\n",
       "    .dataframe thead th {\n",
       "        text-align: right;\n",
       "    }\n",
       "</style>\n",
       "<table border=\"1\" class=\"dataframe\">\n",
       "  <thead>\n",
       "    <tr style=\"text-align: right;\">\n",
       "      <th></th>\n",
       "      <th>Name</th>\n",
       "      <th>md5</th>\n",
       "      <th>Machine</th>\n",
       "      <th>SizeOfOptionalHeader</th>\n",
       "      <th>Characteristics</th>\n",
       "      <th>MajorLinkerVersion</th>\n",
       "      <th>MinorLinkerVersion</th>\n",
       "      <th>SizeOfCode</th>\n",
       "      <th>SizeOfInitializedData</th>\n",
       "      <th>SizeOfUninitializedData</th>\n",
       "      <th>...</th>\n",
       "      <th>ResourcesNb</th>\n",
       "      <th>ResourcesMeanEntropy</th>\n",
       "      <th>ResourcesMinEntropy</th>\n",
       "      <th>ResourcesMaxEntropy</th>\n",
       "      <th>ResourcesMeanSize</th>\n",
       "      <th>ResourcesMinSize</th>\n",
       "      <th>ResourcesMaxSize</th>\n",
       "      <th>LoadConfigurationSize</th>\n",
       "      <th>VersionInformationSize</th>\n",
       "      <th>legitimate</th>\n",
       "    </tr>\n",
       "  </thead>\n",
       "  <tbody>\n",
       "    <tr>\n",
       "      <th>0</th>\n",
       "      <td>memtest.exe</td>\n",
       "      <td>631ea355665f28d4707448e442fbf5b8</td>\n",
       "      <td>332</td>\n",
       "      <td>224</td>\n",
       "      <td>258</td>\n",
       "      <td>9</td>\n",
       "      <td>0</td>\n",
       "      <td>361984</td>\n",
       "      <td>115712</td>\n",
       "      <td>0</td>\n",
       "      <td>...</td>\n",
       "      <td>4</td>\n",
       "      <td>3.262823</td>\n",
       "      <td>2.568844</td>\n",
       "      <td>3.537939</td>\n",
       "      <td>8797.000000</td>\n",
       "      <td>216</td>\n",
       "      <td>18032</td>\n",
       "      <td>0</td>\n",
       "      <td>16</td>\n",
       "      <td>1</td>\n",
       "    </tr>\n",
       "    <tr>\n",
       "      <th>1</th>\n",
       "      <td>ose.exe</td>\n",
       "      <td>9d10f99a6712e28f8acd5641e3a7ea6b</td>\n",
       "      <td>332</td>\n",
       "      <td>224</td>\n",
       "      <td>3330</td>\n",
       "      <td>9</td>\n",
       "      <td>0</td>\n",
       "      <td>130560</td>\n",
       "      <td>19968</td>\n",
       "      <td>0</td>\n",
       "      <td>...</td>\n",
       "      <td>2</td>\n",
       "      <td>4.250461</td>\n",
       "      <td>3.420744</td>\n",
       "      <td>5.080177</td>\n",
       "      <td>837.000000</td>\n",
       "      <td>518</td>\n",
       "      <td>1156</td>\n",
       "      <td>72</td>\n",
       "      <td>18</td>\n",
       "      <td>1</td>\n",
       "    </tr>\n",
       "    <tr>\n",
       "      <th>2</th>\n",
       "      <td>setup.exe</td>\n",
       "      <td>4d92f518527353c0db88a70fddcfd390</td>\n",
       "      <td>332</td>\n",
       "      <td>224</td>\n",
       "      <td>3330</td>\n",
       "      <td>9</td>\n",
       "      <td>0</td>\n",
       "      <td>517120</td>\n",
       "      <td>621568</td>\n",
       "      <td>0</td>\n",
       "      <td>...</td>\n",
       "      <td>11</td>\n",
       "      <td>4.426324</td>\n",
       "      <td>2.846449</td>\n",
       "      <td>5.271813</td>\n",
       "      <td>31102.272727</td>\n",
       "      <td>104</td>\n",
       "      <td>270376</td>\n",
       "      <td>72</td>\n",
       "      <td>18</td>\n",
       "      <td>1</td>\n",
       "    </tr>\n",
       "    <tr>\n",
       "      <th>3</th>\n",
       "      <td>DW20.EXE</td>\n",
       "      <td>a41e524f8d45f0074fd07805ff0c9b12</td>\n",
       "      <td>332</td>\n",
       "      <td>224</td>\n",
       "      <td>258</td>\n",
       "      <td>9</td>\n",
       "      <td>0</td>\n",
       "      <td>585728</td>\n",
       "      <td>369152</td>\n",
       "      <td>0</td>\n",
       "      <td>...</td>\n",
       "      <td>10</td>\n",
       "      <td>4.364291</td>\n",
       "      <td>2.669314</td>\n",
       "      <td>6.400720</td>\n",
       "      <td>1457.000000</td>\n",
       "      <td>90</td>\n",
       "      <td>4264</td>\n",
       "      <td>72</td>\n",
       "      <td>18</td>\n",
       "      <td>1</td>\n",
       "    </tr>\n",
       "    <tr>\n",
       "      <th>4</th>\n",
       "      <td>dwtrig20.exe</td>\n",
       "      <td>c87e561258f2f8650cef999bf643a731</td>\n",
       "      <td>332</td>\n",
       "      <td>224</td>\n",
       "      <td>258</td>\n",
       "      <td>9</td>\n",
       "      <td>0</td>\n",
       "      <td>294912</td>\n",
       "      <td>247296</td>\n",
       "      <td>0</td>\n",
       "      <td>...</td>\n",
       "      <td>2</td>\n",
       "      <td>4.306100</td>\n",
       "      <td>3.421598</td>\n",
       "      <td>5.190603</td>\n",
       "      <td>1074.500000</td>\n",
       "      <td>849</td>\n",
       "      <td>1300</td>\n",
       "      <td>72</td>\n",
       "      <td>18</td>\n",
       "      <td>1</td>\n",
       "    </tr>\n",
       "  </tbody>\n",
       "</table>\n",
       "<p>5 rows × 57 columns</p>\n",
       "</div>"
      ],
      "text/plain": [
       "           Name                               md5  Machine  \\\n",
       "0   memtest.exe  631ea355665f28d4707448e442fbf5b8      332   \n",
       "1       ose.exe  9d10f99a6712e28f8acd5641e3a7ea6b      332   \n",
       "2     setup.exe  4d92f518527353c0db88a70fddcfd390      332   \n",
       "3      DW20.EXE  a41e524f8d45f0074fd07805ff0c9b12      332   \n",
       "4  dwtrig20.exe  c87e561258f2f8650cef999bf643a731      332   \n",
       "\n",
       "   SizeOfOptionalHeader  Characteristics  MajorLinkerVersion  \\\n",
       "0                   224              258                   9   \n",
       "1                   224             3330                   9   \n",
       "2                   224             3330                   9   \n",
       "3                   224              258                   9   \n",
       "4                   224              258                   9   \n",
       "\n",
       "   MinorLinkerVersion  SizeOfCode  SizeOfInitializedData  \\\n",
       "0                   0      361984                 115712   \n",
       "1                   0      130560                  19968   \n",
       "2                   0      517120                 621568   \n",
       "3                   0      585728                 369152   \n",
       "4                   0      294912                 247296   \n",
       "\n",
       "   SizeOfUninitializedData  ...  ResourcesNb  ResourcesMeanEntropy  \\\n",
       "0                        0  ...            4              3.262823   \n",
       "1                        0  ...            2              4.250461   \n",
       "2                        0  ...           11              4.426324   \n",
       "3                        0  ...           10              4.364291   \n",
       "4                        0  ...            2              4.306100   \n",
       "\n",
       "   ResourcesMinEntropy  ResourcesMaxEntropy  ResourcesMeanSize  \\\n",
       "0             2.568844             3.537939        8797.000000   \n",
       "1             3.420744             5.080177         837.000000   \n",
       "2             2.846449             5.271813       31102.272727   \n",
       "3             2.669314             6.400720        1457.000000   \n",
       "4             3.421598             5.190603        1074.500000   \n",
       "\n",
       "   ResourcesMinSize  ResourcesMaxSize  LoadConfigurationSize  \\\n",
       "0               216             18032                      0   \n",
       "1               518              1156                     72   \n",
       "2               104            270376                     72   \n",
       "3                90              4264                     72   \n",
       "4               849              1300                     72   \n",
       "\n",
       "   VersionInformationSize  legitimate  \n",
       "0                      16           1  \n",
       "1                      18           1  \n",
       "2                      18           1  \n",
       "3                      18           1  \n",
       "4                      18           1  \n",
       "\n",
       "[5 rows x 57 columns]"
      ]
     },
     "execution_count": 3,
     "metadata": {},
     "output_type": "execute_result"
    }
   ],
   "source": [
    "data.head(5)"
   ]
  },
  {
   "cell_type": "code",
   "execution_count": 4,
   "id": "561370a9-4b42-4dd1-9d2f-2f3fba844162",
   "metadata": {},
   "outputs": [
    {
     "name": "stdout",
     "output_type": "stream",
     "text": [
      "<class 'pandas.core.frame.DataFrame'>\n",
      "RangeIndex: 138047 entries, 0 to 138046\n",
      "Data columns (total 57 columns):\n",
      " #   Column                       Non-Null Count   Dtype  \n",
      "---  ------                       --------------   -----  \n",
      " 0   Name                         138047 non-null  object \n",
      " 1   md5                          138047 non-null  object \n",
      " 2   Machine                      138047 non-null  int64  \n",
      " 3   SizeOfOptionalHeader         138047 non-null  int64  \n",
      " 4   Characteristics              138047 non-null  int64  \n",
      " 5   MajorLinkerVersion           138047 non-null  int64  \n",
      " 6   MinorLinkerVersion           138047 non-null  int64  \n",
      " 7   SizeOfCode                   138047 non-null  int64  \n",
      " 8   SizeOfInitializedData        138047 non-null  int64  \n",
      " 9   SizeOfUninitializedData      138047 non-null  int64  \n",
      " 10  AddressOfEntryPoint          138047 non-null  int64  \n",
      " 11  BaseOfCode                   138047 non-null  int64  \n",
      " 12  BaseOfData                   138047 non-null  int64  \n",
      " 13  ImageBase                    138047 non-null  float64\n",
      " 14  SectionAlignment             138047 non-null  int64  \n",
      " 15  FileAlignment                138047 non-null  int64  \n",
      " 16  MajorOperatingSystemVersion  138047 non-null  int64  \n",
      " 17  MinorOperatingSystemVersion  138047 non-null  int64  \n",
      " 18  MajorImageVersion            138047 non-null  int64  \n",
      " 19  MinorImageVersion            138047 non-null  int64  \n",
      " 20  MajorSubsystemVersion        138047 non-null  int64  \n",
      " 21  MinorSubsystemVersion        138047 non-null  int64  \n",
      " 22  SizeOfImage                  138047 non-null  int64  \n",
      " 23  SizeOfHeaders                138047 non-null  int64  \n",
      " 24  CheckSum                     138047 non-null  int64  \n",
      " 25  Subsystem                    138047 non-null  int64  \n",
      " 26  DllCharacteristics           138047 non-null  int64  \n",
      " 27  SizeOfStackReserve           138047 non-null  int64  \n",
      " 28  SizeOfStackCommit            138047 non-null  int64  \n",
      " 29  SizeOfHeapReserve            138047 non-null  int64  \n",
      " 30  SizeOfHeapCommit             138047 non-null  int64  \n",
      " 31  LoaderFlags                  138047 non-null  int64  \n",
      " 32  NumberOfRvaAndSizes          138047 non-null  int64  \n",
      " 33  SectionsNb                   138047 non-null  int64  \n",
      " 34  SectionsMeanEntropy          138047 non-null  float64\n",
      " 35  SectionsMinEntropy           138047 non-null  float64\n",
      " 36  SectionsMaxEntropy           138047 non-null  float64\n",
      " 37  SectionsMeanRawsize          138047 non-null  float64\n",
      " 38  SectionsMinRawsize           138047 non-null  int64  \n",
      " 39  SectionMaxRawsize            138047 non-null  int64  \n",
      " 40  SectionsMeanVirtualsize      138047 non-null  float64\n",
      " 41  SectionsMinVirtualsize       138047 non-null  int64  \n",
      " 42  SectionMaxVirtualsize        138047 non-null  int64  \n",
      " 43  ImportsNbDLL                 138047 non-null  int64  \n",
      " 44  ImportsNb                    138047 non-null  int64  \n",
      " 45  ImportsNbOrdinal             138047 non-null  int64  \n",
      " 46  ExportNb                     138047 non-null  int64  \n",
      " 47  ResourcesNb                  138047 non-null  int64  \n",
      " 48  ResourcesMeanEntropy         138047 non-null  float64\n",
      " 49  ResourcesMinEntropy          138047 non-null  float64\n",
      " 50  ResourcesMaxEntropy          138047 non-null  float64\n",
      " 51  ResourcesMeanSize            138047 non-null  float64\n",
      " 52  ResourcesMinSize             138047 non-null  int64  \n",
      " 53  ResourcesMaxSize             138047 non-null  int64  \n",
      " 54  LoadConfigurationSize        138047 non-null  int64  \n",
      " 55  VersionInformationSize       138047 non-null  int64  \n",
      " 56  legitimate                   138047 non-null  int64  \n",
      "dtypes: float64(10), int64(45), object(2)\n",
      "memory usage: 60.0+ MB\n"
     ]
    }
   ],
   "source": [
    "data.info()"
   ]
  },
  {
   "cell_type": "code",
   "execution_count": 5,
   "id": "f0a8cfb1-38f3-4dd6-a42a-cb28d9f79789",
   "metadata": {},
   "outputs": [
    {
     "name": "stdout",
     "output_type": "stream",
     "text": [
      "\n",
      "Nombre de valeurs nulles par colonne :\n",
      "Name                           0\n",
      "md5                            0\n",
      "Machine                        0\n",
      "SizeOfOptionalHeader           0\n",
      "Characteristics                0\n",
      "MajorLinkerVersion             0\n",
      "MinorLinkerVersion             0\n",
      "SizeOfCode                     0\n",
      "SizeOfInitializedData          0\n",
      "SizeOfUninitializedData        0\n",
      "AddressOfEntryPoint            0\n",
      "BaseOfCode                     0\n",
      "BaseOfData                     0\n",
      "ImageBase                      0\n",
      "SectionAlignment               0\n",
      "FileAlignment                  0\n",
      "MajorOperatingSystemVersion    0\n",
      "MinorOperatingSystemVersion    0\n",
      "MajorImageVersion              0\n",
      "MinorImageVersion              0\n",
      "MajorSubsystemVersion          0\n",
      "MinorSubsystemVersion          0\n",
      "SizeOfImage                    0\n",
      "SizeOfHeaders                  0\n",
      "CheckSum                       0\n",
      "Subsystem                      0\n",
      "DllCharacteristics             0\n",
      "SizeOfStackReserve             0\n",
      "SizeOfStackCommit              0\n",
      "SizeOfHeapReserve              0\n",
      "SizeOfHeapCommit               0\n",
      "LoaderFlags                    0\n",
      "NumberOfRvaAndSizes            0\n",
      "SectionsNb                     0\n",
      "SectionsMeanEntropy            0\n",
      "SectionsMinEntropy             0\n",
      "SectionsMaxEntropy             0\n",
      "SectionsMeanRawsize            0\n",
      "SectionsMinRawsize             0\n",
      "SectionMaxRawsize              0\n",
      "SectionsMeanVirtualsize        0\n",
      "SectionsMinVirtualsize         0\n",
      "SectionMaxVirtualsize          0\n",
      "ImportsNbDLL                   0\n",
      "ImportsNb                      0\n",
      "ImportsNbOrdinal               0\n",
      "ExportNb                       0\n",
      "ResourcesNb                    0\n",
      "ResourcesMeanEntropy           0\n",
      "ResourcesMinEntropy            0\n",
      "ResourcesMaxEntropy            0\n",
      "ResourcesMeanSize              0\n",
      "ResourcesMinSize               0\n",
      "ResourcesMaxSize               0\n",
      "LoadConfigurationSize          0\n",
      "VersionInformationSize         0\n",
      "legitimate                     0\n",
      "dtype: int64\n"
     ]
    }
   ],
   "source": [
    "# 4. Vérifier la présence de valeurs nulles\n",
    "print(\"\\nNombre de valeurs nulles par colonne :\")\n",
    "print(data.isnull().sum())"
   ]
  },
  {
   "cell_type": "markdown",
   "id": "85161c14-3ca5-46b8-8bbb-86b3870903d8",
   "metadata": {},
   "source": [
    "<h4>Selectioner best Features</h4>"
   ]
  },
  {
   "cell_type": "code",
   "execution_count": 6,
   "id": "ef121b95-43ce-4220-bb08-56b78932919f",
   "metadata": {},
   "outputs": [],
   "source": [
    "\n",
    "# Séparation des caractéristiques et de l'étiquette\n",
    "X = data.drop(columns=['Name', 'md5', 'legitimate'])\n",
    "y = data['legitimate']\n"
   ]
  },
  {
   "cell_type": "code",
   "execution_count": 7,
   "id": "f2f4727c-380b-461d-8a51-f6b142813ca3",
   "metadata": {},
   "outputs": [],
   "source": [
    "from sklearn.ensemble import ExtraTreesClassifier"
   ]
  },
  {
   "cell_type": "code",
   "execution_count": 8,
   "id": "1eece716-6821-4b6d-af9d-612aec34609f",
   "metadata": {},
   "outputs": [
    {
     "name": "stdout",
     "output_type": "stream",
     "text": [
      "[1.18252852e-01 3.93349574e-02 9.87993943e-02 6.71432622e-03\n",
      " 5.81673830e-03 1.65778036e-03 3.39916975e-03 5.12671534e-04\n",
      " 1.77908531e-03 1.10515069e-03 1.38071335e-03 4.77360263e-02\n",
      " 2.60768611e-03 7.22528826e-03 2.15948623e-02 1.15746863e-02\n",
      " 6.41172709e-03 3.58270164e-03 4.81234494e-02 5.03287137e-03\n",
      " 3.69984394e-03 4.40841020e-03 8.98021427e-03 5.87758018e-02\n",
      " 1.48669668e-01 1.04228163e-02 1.86304751e-03 1.16238401e-03\n",
      " 1.93084571e-04 4.26233437e-06 4.97666067e-05 1.58034924e-02\n",
      " 1.54700831e-02 1.50937442e-02 5.02006130e-02 1.14093296e-03\n",
      " 4.60972432e-03 1.15813071e-03 1.24569411e-03 2.54354436e-03\n",
      " 1.20102040e-03 6.31596794e-03 7.62862090e-03 2.74722969e-03\n",
      " 2.08077582e-03 2.57955505e-03 7.33121478e-03 5.54355589e-02\n",
      " 3.34917889e-02 1.21687467e-03 7.76850686e-03 1.28016265e-03\n",
      " 9.12084095e-03 8.36644858e-02]\n"
     ]
    }
   ],
   "source": [
    "model = ExtraTreesClassifier()\n",
    "model.fit(X, y)\n",
    "print(model.feature_importances_)\n"
   ]
  },
  {
   "cell_type": "markdown",
   "id": "75cf6e20-5adf-4e03-935e-43af84d4c82d",
   "metadata": {},
   "source": [
    "<h4>Tree Classifier </h4>"
   ]
  },
  {
   "cell_type": "code",
   "execution_count": 9,
   "id": "9be6ce52-2e02-4711-a005-ed195050d430",
   "metadata": {},
   "outputs": [],
   "source": [
    "from sklearn.ensemble import ExtraTreesClassifier\n",
    "from sklearn.model_selection import train_test_split\n",
    "from sklearn.feature_selection import SelectFromModel\n"
   ]
  },
  {
   "cell_type": "code",
   "execution_count": 10,
   "id": "164d1787-749d-4514-bddb-9475d69051fa",
   "metadata": {},
   "outputs": [],
   "source": [
    "# Séparation des caractéristiques et de l'étiquette\n",
    "data_in = data.drop(columns=['Name', 'md5', 'legitimate'],axis=1).values\n",
    "labels = data['legitimate'].values"
   ]
  },
  {
   "cell_type": "code",
   "execution_count": 11,
   "id": "7563b511-9579-43f1-92ff-c71f98989cdb",
   "metadata": {},
   "outputs": [
    {
     "data": {
      "text/html": [
       "<style>#sk-container-id-1 {color: black;}#sk-container-id-1 pre{padding: 0;}#sk-container-id-1 div.sk-toggleable {background-color: white;}#sk-container-id-1 label.sk-toggleable__label {cursor: pointer;display: block;width: 100%;margin-bottom: 0;padding: 0.3em;box-sizing: border-box;text-align: center;}#sk-container-id-1 label.sk-toggleable__label-arrow:before {content: \"▸\";float: left;margin-right: 0.25em;color: #696969;}#sk-container-id-1 label.sk-toggleable__label-arrow:hover:before {color: black;}#sk-container-id-1 div.sk-estimator:hover label.sk-toggleable__label-arrow:before {color: black;}#sk-container-id-1 div.sk-toggleable__content {max-height: 0;max-width: 0;overflow: hidden;text-align: left;background-color: #f0f8ff;}#sk-container-id-1 div.sk-toggleable__content pre {margin: 0.2em;color: black;border-radius: 0.25em;background-color: #f0f8ff;}#sk-container-id-1 input.sk-toggleable__control:checked~div.sk-toggleable__content {max-height: 200px;max-width: 100%;overflow: auto;}#sk-container-id-1 input.sk-toggleable__control:checked~label.sk-toggleable__label-arrow:before {content: \"▾\";}#sk-container-id-1 div.sk-estimator input.sk-toggleable__control:checked~label.sk-toggleable__label {background-color: #d4ebff;}#sk-container-id-1 div.sk-label input.sk-toggleable__control:checked~label.sk-toggleable__label {background-color: #d4ebff;}#sk-container-id-1 input.sk-hidden--visually {border: 0;clip: rect(1px 1px 1px 1px);clip: rect(1px, 1px, 1px, 1px);height: 1px;margin: -1px;overflow: hidden;padding: 0;position: absolute;width: 1px;}#sk-container-id-1 div.sk-estimator {font-family: monospace;background-color: #f0f8ff;border: 1px dotted black;border-radius: 0.25em;box-sizing: border-box;margin-bottom: 0.5em;}#sk-container-id-1 div.sk-estimator:hover {background-color: #d4ebff;}#sk-container-id-1 div.sk-parallel-item::after {content: \"\";width: 100%;border-bottom: 1px solid gray;flex-grow: 1;}#sk-container-id-1 div.sk-label:hover label.sk-toggleable__label {background-color: #d4ebff;}#sk-container-id-1 div.sk-serial::before {content: \"\";position: absolute;border-left: 1px solid gray;box-sizing: border-box;top: 0;bottom: 0;left: 50%;z-index: 0;}#sk-container-id-1 div.sk-serial {display: flex;flex-direction: column;align-items: center;background-color: white;padding-right: 0.2em;padding-left: 0.2em;position: relative;}#sk-container-id-1 div.sk-item {position: relative;z-index: 1;}#sk-container-id-1 div.sk-parallel {display: flex;align-items: stretch;justify-content: center;background-color: white;position: relative;}#sk-container-id-1 div.sk-item::before, #sk-container-id-1 div.sk-parallel-item::before {content: \"\";position: absolute;border-left: 1px solid gray;box-sizing: border-box;top: 0;bottom: 0;left: 50%;z-index: -1;}#sk-container-id-1 div.sk-parallel-item {display: flex;flex-direction: column;z-index: 1;position: relative;background-color: white;}#sk-container-id-1 div.sk-parallel-item:first-child::after {align-self: flex-end;width: 50%;}#sk-container-id-1 div.sk-parallel-item:last-child::after {align-self: flex-start;width: 50%;}#sk-container-id-1 div.sk-parallel-item:only-child::after {width: 0;}#sk-container-id-1 div.sk-dashed-wrapped {border: 1px dashed gray;margin: 0 0.4em 0.5em 0.4em;box-sizing: border-box;padding-bottom: 0.4em;background-color: white;}#sk-container-id-1 div.sk-label label {font-family: monospace;font-weight: bold;display: inline-block;line-height: 1.2em;}#sk-container-id-1 div.sk-label-container {text-align: center;}#sk-container-id-1 div.sk-container {/* jupyter's `normalize.less` sets `[hidden] { display: none; }` but bootstrap.min.css set `[hidden] { display: none !important; }` so we also need the `!important` here to be able to override the default hidden behavior on the sphinx rendered scikit-learn.org. See: https://github.com/scikit-learn/scikit-learn/issues/21755 */display: inline-block !important;position: relative;}#sk-container-id-1 div.sk-text-repr-fallback {display: none;}</style><div id=\"sk-container-id-1\" class=\"sk-top-container\"><div class=\"sk-text-repr-fallback\"><pre>ExtraTreesClassifier()</pre><b>In a Jupyter environment, please rerun this cell to show the HTML representation or trust the notebook. <br />On GitHub, the HTML representation is unable to render, please try loading this page with nbviewer.org.</b></div><div class=\"sk-container\" hidden><div class=\"sk-item\"><div class=\"sk-estimator sk-toggleable\"><input class=\"sk-toggleable__control sk-hidden--visually\" id=\"sk-estimator-id-1\" type=\"checkbox\" checked><label for=\"sk-estimator-id-1\" class=\"sk-toggleable__label sk-toggleable__label-arrow\">ExtraTreesClassifier</label><div class=\"sk-toggleable__content\"><pre>ExtraTreesClassifier()</pre></div></div></div></div></div>"
      ],
      "text/plain": [
       "ExtraTreesClassifier()"
      ]
     },
     "execution_count": 11,
     "metadata": {},
     "output_type": "execute_result"
    }
   ],
   "source": [
    "extratrees = ExtraTreesClassifier()\n",
    "extratrees.fit(data_in,labels)"
   ]
  },
  {
   "cell_type": "code",
   "execution_count": 12,
   "id": "74e5b5d0-cec5-439e-b26d-1ace3fe72a9d",
   "metadata": {},
   "outputs": [
    {
     "name": "stdout",
     "output_type": "stream",
     "text": [
      "(138047, 54) (138047, 14)\n"
     ]
    }
   ],
   "source": [
    "select= SelectFromModel(extratrees,prefit=True)\n",
    "data_in_new=select.transform(data_in)\n",
    "print(data_in.shape,data_in_new.shape)"
   ]
  },
  {
   "cell_type": "markdown",
   "id": "7168eb80-6b27-4e8a-bc13-a5c0b6982ac4",
   "metadata": {},
   "source": [
    "<h3>On Conclue que on a 14 features plus important dans notre dataset </h3>"
   ]
  },
  {
   "cell_type": "code",
   "execution_count": 13,
   "id": "6517bf10-c777-4c54-b69b-b129204a9122",
   "metadata": {},
   "outputs": [
    {
     "name": "stdout",
     "output_type": "stream",
     "text": [
      "1 DllCharacteristics 0.14084301760614126\n",
      "2 Machine 0.12562461338723563\n",
      "3 Characteristics 0.08969572051179665\n",
      "4 ImageBase 0.06592385273941971\n",
      "5 SectionsMaxEntropy 0.060908470853056396\n",
      "6 VersionInformationSize 0.056433328670317036\n",
      "7 Subsystem 0.05471664007317321\n",
      "8 ResourcesMaxEntropy 0.049493647459073815\n",
      "9 MajorSubsystemVersion 0.0475302087057625\n",
      "10 SizeOfOptionalHeader 0.03517244310892199\n",
      "11 ResourcesMinEntropy 0.03153405562247117\n",
      "12 MajorOperatingSystemVersion 0.02286968769999137\n",
      "13 SectionsMinEntropy 0.02133446793288737\n",
      "14 SectionsMeanEntropy 0.019825034287414427\n"
     ]
    }
   ],
   "source": [
    "import numpy as np \n",
    "features = data_in_new.shape[1]\n",
    "importances=extratrees.feature_importances_\n",
    "indices=np.argsort(importances)[::-1]\n",
    "for f in range(features):\n",
    "    print(\"%d\"%(f+1),data.columns[2+indices[f]],importances[indices[f]])"
   ]
  },
  {
   "cell_type": "markdown",
   "id": "1da5e7a3-4fd5-4277-bbaa-4319aba3795d",
   "metadata": {},
   "source": [
    "<h4>Donc apres avoir selection the best Features On pas a l entrainement sur data</h4>"
   ]
  },
  {
   "cell_type": "markdown",
   "id": "0c595deb-2b0f-45b6-bcf6-9cb09c1bab2f",
   "metadata": {},
   "source": [
    "<h2>Random Forest</h2>"
   ]
  },
  {
   "cell_type": "code",
   "execution_count": 14,
   "id": "7c5a9bc6-1651-42dd-a1f3-e01b72f9f3ee",
   "metadata": {},
   "outputs": [
    {
     "data": {
      "text/html": [
       "<style>#sk-container-id-2 {color: black;}#sk-container-id-2 pre{padding: 0;}#sk-container-id-2 div.sk-toggleable {background-color: white;}#sk-container-id-2 label.sk-toggleable__label {cursor: pointer;display: block;width: 100%;margin-bottom: 0;padding: 0.3em;box-sizing: border-box;text-align: center;}#sk-container-id-2 label.sk-toggleable__label-arrow:before {content: \"▸\";float: left;margin-right: 0.25em;color: #696969;}#sk-container-id-2 label.sk-toggleable__label-arrow:hover:before {color: black;}#sk-container-id-2 div.sk-estimator:hover label.sk-toggleable__label-arrow:before {color: black;}#sk-container-id-2 div.sk-toggleable__content {max-height: 0;max-width: 0;overflow: hidden;text-align: left;background-color: #f0f8ff;}#sk-container-id-2 div.sk-toggleable__content pre {margin: 0.2em;color: black;border-radius: 0.25em;background-color: #f0f8ff;}#sk-container-id-2 input.sk-toggleable__control:checked~div.sk-toggleable__content {max-height: 200px;max-width: 100%;overflow: auto;}#sk-container-id-2 input.sk-toggleable__control:checked~label.sk-toggleable__label-arrow:before {content: \"▾\";}#sk-container-id-2 div.sk-estimator input.sk-toggleable__control:checked~label.sk-toggleable__label {background-color: #d4ebff;}#sk-container-id-2 div.sk-label input.sk-toggleable__control:checked~label.sk-toggleable__label {background-color: #d4ebff;}#sk-container-id-2 input.sk-hidden--visually {border: 0;clip: rect(1px 1px 1px 1px);clip: rect(1px, 1px, 1px, 1px);height: 1px;margin: -1px;overflow: hidden;padding: 0;position: absolute;width: 1px;}#sk-container-id-2 div.sk-estimator {font-family: monospace;background-color: #f0f8ff;border: 1px dotted black;border-radius: 0.25em;box-sizing: border-box;margin-bottom: 0.5em;}#sk-container-id-2 div.sk-estimator:hover {background-color: #d4ebff;}#sk-container-id-2 div.sk-parallel-item::after {content: \"\";width: 100%;border-bottom: 1px solid gray;flex-grow: 1;}#sk-container-id-2 div.sk-label:hover label.sk-toggleable__label {background-color: #d4ebff;}#sk-container-id-2 div.sk-serial::before {content: \"\";position: absolute;border-left: 1px solid gray;box-sizing: border-box;top: 0;bottom: 0;left: 50%;z-index: 0;}#sk-container-id-2 div.sk-serial {display: flex;flex-direction: column;align-items: center;background-color: white;padding-right: 0.2em;padding-left: 0.2em;position: relative;}#sk-container-id-2 div.sk-item {position: relative;z-index: 1;}#sk-container-id-2 div.sk-parallel {display: flex;align-items: stretch;justify-content: center;background-color: white;position: relative;}#sk-container-id-2 div.sk-item::before, #sk-container-id-2 div.sk-parallel-item::before {content: \"\";position: absolute;border-left: 1px solid gray;box-sizing: border-box;top: 0;bottom: 0;left: 50%;z-index: -1;}#sk-container-id-2 div.sk-parallel-item {display: flex;flex-direction: column;z-index: 1;position: relative;background-color: white;}#sk-container-id-2 div.sk-parallel-item:first-child::after {align-self: flex-end;width: 50%;}#sk-container-id-2 div.sk-parallel-item:last-child::after {align-self: flex-start;width: 50%;}#sk-container-id-2 div.sk-parallel-item:only-child::after {width: 0;}#sk-container-id-2 div.sk-dashed-wrapped {border: 1px dashed gray;margin: 0 0.4em 0.5em 0.4em;box-sizing: border-box;padding-bottom: 0.4em;background-color: white;}#sk-container-id-2 div.sk-label label {font-family: monospace;font-weight: bold;display: inline-block;line-height: 1.2em;}#sk-container-id-2 div.sk-label-container {text-align: center;}#sk-container-id-2 div.sk-container {/* jupyter's `normalize.less` sets `[hidden] { display: none; }` but bootstrap.min.css set `[hidden] { display: none !important; }` so we also need the `!important` here to be able to override the default hidden behavior on the sphinx rendered scikit-learn.org. See: https://github.com/scikit-learn/scikit-learn/issues/21755 */display: inline-block !important;position: relative;}#sk-container-id-2 div.sk-text-repr-fallback {display: none;}</style><div id=\"sk-container-id-2\" class=\"sk-top-container\"><div class=\"sk-text-repr-fallback\"><pre>RandomForestClassifier(n_estimators=50)</pre><b>In a Jupyter environment, please rerun this cell to show the HTML representation or trust the notebook. <br />On GitHub, the HTML representation is unable to render, please try loading this page with nbviewer.org.</b></div><div class=\"sk-container\" hidden><div class=\"sk-item\"><div class=\"sk-estimator sk-toggleable\"><input class=\"sk-toggleable__control sk-hidden--visually\" id=\"sk-estimator-id-2\" type=\"checkbox\" checked><label for=\"sk-estimator-id-2\" class=\"sk-toggleable__label sk-toggleable__label-arrow\">RandomForestClassifier</label><div class=\"sk-toggleable__content\"><pre>RandomForestClassifier(n_estimators=50)</pre></div></div></div></div></div>"
      ],
      "text/plain": [
       "RandomForestClassifier(n_estimators=50)"
      ]
     },
     "execution_count": 14,
     "metadata": {},
     "output_type": "execute_result"
    }
   ],
   "source": [
    "#split data \n",
    "from sklearn.ensemble import RandomForestClassifier\n",
    "legit_train,legit_test,mal_train,mal_test=train_test_split(data_in_new,labels,test_size=0.2)\n",
    "classif=RandomForestClassifier(n_estimators=50)\n",
    "classif.fit(legit_train,mal_train)"
   ]
  },
  {
   "cell_type": "code",
   "execution_count": 15,
   "id": "32275275-456f-4813-8beb-0f00be365caa",
   "metadata": {},
   "outputs": [
    {
     "name": "stdout",
     "output_type": "stream",
     "text": [
      "le score pour cette entainement est :  0.9999456703822088\n"
     ]
    }
   ],
   "source": [
    "print(\"le score pour cette entainement est : \", classif.score(legit_train,mal_train))"
   ]
  },
  {
   "cell_type": "markdown",
   "id": "44a992ff-dc60-41ac-a5f4-9637acb2ed7e",
   "metadata": {},
   "source": [
    "<h3>Best Model 99.98% : donne une prediction preceque exacte a 99%</h3>"
   ]
  },
  {
   "cell_type": "code",
   "execution_count": 25,
   "id": "212b2bed-81b3-4915-92f0-4eb60db7984b",
   "metadata": {},
   "outputs": [
    {
     "data": {
      "text/html": [
       "<div>\n",
       "<style scoped>\n",
       "    .dataframe tbody tr th:only-of-type {\n",
       "        vertical-align: middle;\n",
       "    }\n",
       "\n",
       "    .dataframe tbody tr th {\n",
       "        vertical-align: top;\n",
       "    }\n",
       "\n",
       "    .dataframe thead th {\n",
       "        text-align: right;\n",
       "    }\n",
       "</style>\n",
       "<table border=\"1\" class=\"dataframe\">\n",
       "  <thead>\n",
       "    <tr style=\"text-align: right;\">\n",
       "      <th></th>\n",
       "      <th>0</th>\n",
       "      <th>1</th>\n",
       "      <th>2</th>\n",
       "      <th>3</th>\n",
       "      <th>4</th>\n",
       "      <th>5</th>\n",
       "      <th>6</th>\n",
       "      <th>7</th>\n",
       "      <th>8</th>\n",
       "      <th>9</th>\n",
       "      <th>10</th>\n",
       "      <th>11</th>\n",
       "      <th>12</th>\n",
       "      <th>13</th>\n",
       "    </tr>\n",
       "  </thead>\n",
       "  <tbody>\n",
       "    <tr>\n",
       "      <th>0</th>\n",
       "      <td>332.0</td>\n",
       "      <td>224.0</td>\n",
       "      <td>271.0</td>\n",
       "      <td>4.194304e+06</td>\n",
       "      <td>4.0</td>\n",
       "      <td>4.0</td>\n",
       "      <td>2.0</td>\n",
       "      <td>32768.0</td>\n",
       "      <td>4.090237</td>\n",
       "      <td>0.000000</td>\n",
       "      <td>6.452378</td>\n",
       "      <td>1.919241</td>\n",
       "      <td>5.214816</td>\n",
       "      <td>0.0</td>\n",
       "    </tr>\n",
       "    <tr>\n",
       "      <th>1</th>\n",
       "      <td>332.0</td>\n",
       "      <td>224.0</td>\n",
       "      <td>258.0</td>\n",
       "      <td>4.194304e+06</td>\n",
       "      <td>5.0</td>\n",
       "      <td>5.0</td>\n",
       "      <td>2.0</td>\n",
       "      <td>33088.0</td>\n",
       "      <td>4.263377</td>\n",
       "      <td>0.206920</td>\n",
       "      <td>7.998942</td>\n",
       "      <td>2.623078</td>\n",
       "      <td>7.967002</td>\n",
       "      <td>0.0</td>\n",
       "    </tr>\n",
       "    <tr>\n",
       "      <th>2</th>\n",
       "      <td>332.0</td>\n",
       "      <td>224.0</td>\n",
       "      <td>258.0</td>\n",
       "      <td>4.194304e+06</td>\n",
       "      <td>5.0</td>\n",
       "      <td>5.0</td>\n",
       "      <td>2.0</td>\n",
       "      <td>33088.0</td>\n",
       "      <td>5.627823</td>\n",
       "      <td>4.034605</td>\n",
       "      <td>7.966134</td>\n",
       "      <td>2.674420</td>\n",
       "      <td>3.764385</td>\n",
       "      <td>14.0</td>\n",
       "    </tr>\n",
       "    <tr>\n",
       "      <th>3</th>\n",
       "      <td>332.0</td>\n",
       "      <td>224.0</td>\n",
       "      <td>258.0</td>\n",
       "      <td>4.194304e+06</td>\n",
       "      <td>5.0</td>\n",
       "      <td>5.0</td>\n",
       "      <td>2.0</td>\n",
       "      <td>33088.0</td>\n",
       "      <td>5.652470</td>\n",
       "      <td>4.149901</td>\n",
       "      <td>7.962793</td>\n",
       "      <td>2.458492</td>\n",
       "      <td>5.317552</td>\n",
       "      <td>15.0</td>\n",
       "    </tr>\n",
       "    <tr>\n",
       "      <th>4</th>\n",
       "      <td>332.0</td>\n",
       "      <td>224.0</td>\n",
       "      <td>8450.0</td>\n",
       "      <td>1.897923e+09</td>\n",
       "      <td>6.0</td>\n",
       "      <td>6.0</td>\n",
       "      <td>2.0</td>\n",
       "      <td>320.0</td>\n",
       "      <td>4.998857</td>\n",
       "      <td>1.849672</td>\n",
       "      <td>6.787167</td>\n",
       "      <td>1.939544</td>\n",
       "      <td>5.996881</td>\n",
       "      <td>16.0</td>\n",
       "    </tr>\n",
       "    <tr>\n",
       "      <th>...</th>\n",
       "      <td>...</td>\n",
       "      <td>...</td>\n",
       "      <td>...</td>\n",
       "      <td>...</td>\n",
       "      <td>...</td>\n",
       "      <td>...</td>\n",
       "      <td>...</td>\n",
       "      <td>...</td>\n",
       "      <td>...</td>\n",
       "      <td>...</td>\n",
       "      <td>...</td>\n",
       "      <td>...</td>\n",
       "      <td>...</td>\n",
       "      <td>...</td>\n",
       "    </tr>\n",
       "    <tr>\n",
       "      <th>27605</th>\n",
       "      <td>332.0</td>\n",
       "      <td>224.0</td>\n",
       "      <td>258.0</td>\n",
       "      <td>4.194304e+06</td>\n",
       "      <td>4.0</td>\n",
       "      <td>4.0</td>\n",
       "      <td>2.0</td>\n",
       "      <td>34112.0</td>\n",
       "      <td>4.919844</td>\n",
       "      <td>0.000000</td>\n",
       "      <td>7.998041</td>\n",
       "      <td>2.241580</td>\n",
       "      <td>5.155409</td>\n",
       "      <td>23.0</td>\n",
       "    </tr>\n",
       "    <tr>\n",
       "      <th>27606</th>\n",
       "      <td>332.0</td>\n",
       "      <td>224.0</td>\n",
       "      <td>258.0</td>\n",
       "      <td>4.194304e+06</td>\n",
       "      <td>5.0</td>\n",
       "      <td>5.0</td>\n",
       "      <td>2.0</td>\n",
       "      <td>33088.0</td>\n",
       "      <td>5.633449</td>\n",
       "      <td>4.053766</td>\n",
       "      <td>7.962578</td>\n",
       "      <td>2.458492</td>\n",
       "      <td>5.317552</td>\n",
       "      <td>15.0</td>\n",
       "    </tr>\n",
       "    <tr>\n",
       "      <th>27607</th>\n",
       "      <td>332.0</td>\n",
       "      <td>224.0</td>\n",
       "      <td>8450.0</td>\n",
       "      <td>1.085800e+09</td>\n",
       "      <td>6.0</td>\n",
       "      <td>5.0</td>\n",
       "      <td>2.0</td>\n",
       "      <td>320.0</td>\n",
       "      <td>4.734941</td>\n",
       "      <td>1.133688</td>\n",
       "      <td>6.479489</td>\n",
       "      <td>3.574042</td>\n",
       "      <td>5.193236</td>\n",
       "      <td>17.0</td>\n",
       "    </tr>\n",
       "    <tr>\n",
       "      <th>27608</th>\n",
       "      <td>332.0</td>\n",
       "      <td>224.0</td>\n",
       "      <td>8450.0</td>\n",
       "      <td>1.840644e+09</td>\n",
       "      <td>5.0</td>\n",
       "      <td>5.0</td>\n",
       "      <td>3.0</td>\n",
       "      <td>1344.0</td>\n",
       "      <td>5.020383</td>\n",
       "      <td>2.608909</td>\n",
       "      <td>6.499151</td>\n",
       "      <td>3.549062</td>\n",
       "      <td>3.549062</td>\n",
       "      <td>18.0</td>\n",
       "    </tr>\n",
       "    <tr>\n",
       "      <th>27609</th>\n",
       "      <td>332.0</td>\n",
       "      <td>224.0</td>\n",
       "      <td>258.0</td>\n",
       "      <td>4.194304e+06</td>\n",
       "      <td>5.0</td>\n",
       "      <td>5.0</td>\n",
       "      <td>2.0</td>\n",
       "      <td>33088.0</td>\n",
       "      <td>5.374439</td>\n",
       "      <td>3.839938</td>\n",
       "      <td>6.527228</td>\n",
       "      <td>2.751880</td>\n",
       "      <td>6.300507</td>\n",
       "      <td>0.0</td>\n",
       "    </tr>\n",
       "  </tbody>\n",
       "</table>\n",
       "<p>27610 rows × 14 columns</p>\n",
       "</div>"
      ],
      "text/plain": [
       "          0      1       2             3    4    5    6        7         8   \\\n",
       "0      332.0  224.0   271.0  4.194304e+06  4.0  4.0  2.0  32768.0  4.090237   \n",
       "1      332.0  224.0   258.0  4.194304e+06  5.0  5.0  2.0  33088.0  4.263377   \n",
       "2      332.0  224.0   258.0  4.194304e+06  5.0  5.0  2.0  33088.0  5.627823   \n",
       "3      332.0  224.0   258.0  4.194304e+06  5.0  5.0  2.0  33088.0  5.652470   \n",
       "4      332.0  224.0  8450.0  1.897923e+09  6.0  6.0  2.0    320.0  4.998857   \n",
       "...      ...    ...     ...           ...  ...  ...  ...      ...       ...   \n",
       "27605  332.0  224.0   258.0  4.194304e+06  4.0  4.0  2.0  34112.0  4.919844   \n",
       "27606  332.0  224.0   258.0  4.194304e+06  5.0  5.0  2.0  33088.0  5.633449   \n",
       "27607  332.0  224.0  8450.0  1.085800e+09  6.0  5.0  2.0    320.0  4.734941   \n",
       "27608  332.0  224.0  8450.0  1.840644e+09  5.0  5.0  3.0   1344.0  5.020383   \n",
       "27609  332.0  224.0   258.0  4.194304e+06  5.0  5.0  2.0  33088.0  5.374439   \n",
       "\n",
       "             9         10        11        12    13  \n",
       "0      0.000000  6.452378  1.919241  5.214816   0.0  \n",
       "1      0.206920  7.998942  2.623078  7.967002   0.0  \n",
       "2      4.034605  7.966134  2.674420  3.764385  14.0  \n",
       "3      4.149901  7.962793  2.458492  5.317552  15.0  \n",
       "4      1.849672  6.787167  1.939544  5.996881  16.0  \n",
       "...         ...       ...       ...       ...   ...  \n",
       "27605  0.000000  7.998041  2.241580  5.155409  23.0  \n",
       "27606  4.053766  7.962578  2.458492  5.317552  15.0  \n",
       "27607  1.133688  6.479489  3.574042  5.193236  17.0  \n",
       "27608  2.608909  6.499151  3.549062  3.549062  18.0  \n",
       "27609  3.839938  6.527228  2.751880  6.300507   0.0  \n",
       "\n",
       "[27610 rows x 14 columns]"
      ]
     },
     "execution_count": 25,
     "metadata": {},
     "output_type": "execute_result"
    }
   ],
   "source": [
    "pd.DataFrame(legit_test)"
   ]
  },
  {
   "cell_type": "code",
   "execution_count": 16,
   "id": "71e5ffae-f642-458c-9467-92d0f928ec07",
   "metadata": {},
   "outputs": [],
   "source": [
    "from sklearn.metrics import confusion_matrix\n",
    "result = classif.predict(legit_test)\n",
    "conf_mat=confusion_matrix(mal_test,result)"
   ]
  },
  {
   "cell_type": "code",
   "execution_count": 28,
   "id": "2c815e28-e36f-47d5-a820-4f0c72f15397",
   "metadata": {},
   "outputs": [
    {
     "data": {
      "text/html": [
       "<div>\n",
       "<style scoped>\n",
       "    .dataframe tbody tr th:only-of-type {\n",
       "        vertical-align: middle;\n",
       "    }\n",
       "\n",
       "    .dataframe tbody tr th {\n",
       "        vertical-align: top;\n",
       "    }\n",
       "\n",
       "    .dataframe thead th {\n",
       "        text-align: right;\n",
       "    }\n",
       "</style>\n",
       "<table border=\"1\" class=\"dataframe\">\n",
       "  <thead>\n",
       "    <tr style=\"text-align: right;\">\n",
       "      <th></th>\n",
       "      <th>0</th>\n",
       "    </tr>\n",
       "  </thead>\n",
       "  <tbody>\n",
       "    <tr>\n",
       "      <th>0</th>\n",
       "      <td>0</td>\n",
       "    </tr>\n",
       "    <tr>\n",
       "      <th>1</th>\n",
       "      <td>0</td>\n",
       "    </tr>\n",
       "    <tr>\n",
       "      <th>2</th>\n",
       "      <td>0</td>\n",
       "    </tr>\n",
       "    <tr>\n",
       "      <th>3</th>\n",
       "      <td>0</td>\n",
       "    </tr>\n",
       "    <tr>\n",
       "      <th>4</th>\n",
       "      <td>1</td>\n",
       "    </tr>\n",
       "    <tr>\n",
       "      <th>...</th>\n",
       "      <td>...</td>\n",
       "    </tr>\n",
       "    <tr>\n",
       "      <th>27605</th>\n",
       "      <td>0</td>\n",
       "    </tr>\n",
       "    <tr>\n",
       "      <th>27606</th>\n",
       "      <td>0</td>\n",
       "    </tr>\n",
       "    <tr>\n",
       "      <th>27607</th>\n",
       "      <td>1</td>\n",
       "    </tr>\n",
       "    <tr>\n",
       "      <th>27608</th>\n",
       "      <td>1</td>\n",
       "    </tr>\n",
       "    <tr>\n",
       "      <th>27609</th>\n",
       "      <td>0</td>\n",
       "    </tr>\n",
       "  </tbody>\n",
       "</table>\n",
       "<p>27610 rows × 1 columns</p>\n",
       "</div>"
      ],
      "text/plain": [
       "       0\n",
       "0      0\n",
       "1      0\n",
       "2      0\n",
       "3      0\n",
       "4      1\n",
       "...   ..\n",
       "27605  0\n",
       "27606  0\n",
       "27607  1\n",
       "27608  1\n",
       "27609  0\n",
       "\n",
       "[27610 rows x 1 columns]"
      ]
     },
     "execution_count": 28,
     "metadata": {},
     "output_type": "execute_result"
    }
   ],
   "source": [
    "pd.DataFrame(result)"
   ]
  },
  {
   "cell_type": "code",
   "execution_count": 17,
   "id": "cfcdc03a-fa7b-4174-b2ec-abb055b23d1a",
   "metadata": {},
   "outputs": [
    {
     "data": {
      "text/plain": [
       "(2, 2)"
      ]
     },
     "execution_count": 17,
     "metadata": {},
     "output_type": "execute_result"
    }
   ],
   "source": [
    "conf_mat.shape"
   ]
  },
  {
   "cell_type": "code",
   "execution_count": 18,
   "id": "7f4f3f17-114d-47b1-a247-4bfcd0cb41fb",
   "metadata": {},
   "outputs": [
    {
     "data": {
      "text/plain": [
       "array([[19300,    80],\n",
       "       [   72,  8158]], dtype=int64)"
      ]
     },
     "execution_count": 18,
     "metadata": {},
     "output_type": "execute_result"
    }
   ],
   "source": [
    "conf_mat"
   ]
  },
  {
   "cell_type": "code",
   "execution_count": 19,
   "id": "0a76585c-488a-4afb-8897-e06deb5bcc42",
   "metadata": {},
   "outputs": [
    {
     "name": "stdout",
     "output_type": "stream",
     "text": [
      "FP: 0.41279669762641896\n",
      "FN: 0.8748481166464156\n"
     ]
    }
   ],
   "source": [
    "print(\"FP:\",conf_mat[0][1]/sum(conf_mat[0])*100)\n",
    "print(\"FN:\",conf_mat[1][0]/sum(conf_mat[1])*100)"
   ]
  },
  {
   "cell_type": "markdown",
   "id": "110e002c-7c87-42e6-9247-f147f6c3a261",
   "metadata": {},
   "source": [
    "<h4>On sauvgarde le modéle </h4>"
   ]
  },
  {
   "cell_type": "code",
   "execution_count": 21,
   "id": "f0157e74-f4e4-4f01-9126-4bcbc4563a8b",
   "metadata": {},
   "outputs": [
    {
     "name": "stdout",
     "output_type": "stream",
     "text": [
      "Modèle sauvegardé avec succès au format pickle.\n"
     ]
    }
   ],
   "source": [
    "import pickle\n",
    "\n",
    "# Sauvegarder le modèle\n",
    "with open('random_forest_model.pkl', 'wb') as f:\n",
    "    pickle.dump(classif, f)\n",
    "\n",
    "print(\"Modèle sauvegardé avec succès au format pickle.\")\n"
   ]
  },
  {
   "cell_type": "markdown",
   "id": "c11bf14b-d777-4236-b8ad-9a227bd3ab41",
   "metadata": {},
   "source": [
    "<h2>Gradient Boostting </h2>"
   ]
  },
  {
   "cell_type": "code",
   "execution_count": 22,
   "id": "5bad38a8-1fae-467f-b23a-0218c7f4cd3f",
   "metadata": {},
   "outputs": [
    {
     "data": {
      "text/html": [
       "<style>#sk-container-id-3 {color: black;}#sk-container-id-3 pre{padding: 0;}#sk-container-id-3 div.sk-toggleable {background-color: white;}#sk-container-id-3 label.sk-toggleable__label {cursor: pointer;display: block;width: 100%;margin-bottom: 0;padding: 0.3em;box-sizing: border-box;text-align: center;}#sk-container-id-3 label.sk-toggleable__label-arrow:before {content: \"▸\";float: left;margin-right: 0.25em;color: #696969;}#sk-container-id-3 label.sk-toggleable__label-arrow:hover:before {color: black;}#sk-container-id-3 div.sk-estimator:hover label.sk-toggleable__label-arrow:before {color: black;}#sk-container-id-3 div.sk-toggleable__content {max-height: 0;max-width: 0;overflow: hidden;text-align: left;background-color: #f0f8ff;}#sk-container-id-3 div.sk-toggleable__content pre {margin: 0.2em;color: black;border-radius: 0.25em;background-color: #f0f8ff;}#sk-container-id-3 input.sk-toggleable__control:checked~div.sk-toggleable__content {max-height: 200px;max-width: 100%;overflow: auto;}#sk-container-id-3 input.sk-toggleable__control:checked~label.sk-toggleable__label-arrow:before {content: \"▾\";}#sk-container-id-3 div.sk-estimator input.sk-toggleable__control:checked~label.sk-toggleable__label {background-color: #d4ebff;}#sk-container-id-3 div.sk-label input.sk-toggleable__control:checked~label.sk-toggleable__label {background-color: #d4ebff;}#sk-container-id-3 input.sk-hidden--visually {border: 0;clip: rect(1px 1px 1px 1px);clip: rect(1px, 1px, 1px, 1px);height: 1px;margin: -1px;overflow: hidden;padding: 0;position: absolute;width: 1px;}#sk-container-id-3 div.sk-estimator {font-family: monospace;background-color: #f0f8ff;border: 1px dotted black;border-radius: 0.25em;box-sizing: border-box;margin-bottom: 0.5em;}#sk-container-id-3 div.sk-estimator:hover {background-color: #d4ebff;}#sk-container-id-3 div.sk-parallel-item::after {content: \"\";width: 100%;border-bottom: 1px solid gray;flex-grow: 1;}#sk-container-id-3 div.sk-label:hover label.sk-toggleable__label {background-color: #d4ebff;}#sk-container-id-3 div.sk-serial::before {content: \"\";position: absolute;border-left: 1px solid gray;box-sizing: border-box;top: 0;bottom: 0;left: 50%;z-index: 0;}#sk-container-id-3 div.sk-serial {display: flex;flex-direction: column;align-items: center;background-color: white;padding-right: 0.2em;padding-left: 0.2em;position: relative;}#sk-container-id-3 div.sk-item {position: relative;z-index: 1;}#sk-container-id-3 div.sk-parallel {display: flex;align-items: stretch;justify-content: center;background-color: white;position: relative;}#sk-container-id-3 div.sk-item::before, #sk-container-id-3 div.sk-parallel-item::before {content: \"\";position: absolute;border-left: 1px solid gray;box-sizing: border-box;top: 0;bottom: 0;left: 50%;z-index: -1;}#sk-container-id-3 div.sk-parallel-item {display: flex;flex-direction: column;z-index: 1;position: relative;background-color: white;}#sk-container-id-3 div.sk-parallel-item:first-child::after {align-self: flex-end;width: 50%;}#sk-container-id-3 div.sk-parallel-item:last-child::after {align-self: flex-start;width: 50%;}#sk-container-id-3 div.sk-parallel-item:only-child::after {width: 0;}#sk-container-id-3 div.sk-dashed-wrapped {border: 1px dashed gray;margin: 0 0.4em 0.5em 0.4em;box-sizing: border-box;padding-bottom: 0.4em;background-color: white;}#sk-container-id-3 div.sk-label label {font-family: monospace;font-weight: bold;display: inline-block;line-height: 1.2em;}#sk-container-id-3 div.sk-label-container {text-align: center;}#sk-container-id-3 div.sk-container {/* jupyter's `normalize.less` sets `[hidden] { display: none; }` but bootstrap.min.css set `[hidden] { display: none !important; }` so we also need the `!important` here to be able to override the default hidden behavior on the sphinx rendered scikit-learn.org. See: https://github.com/scikit-learn/scikit-learn/issues/21755 */display: inline-block !important;position: relative;}#sk-container-id-3 div.sk-text-repr-fallback {display: none;}</style><div id=\"sk-container-id-3\" class=\"sk-top-container\"><div class=\"sk-text-repr-fallback\"><pre>GradientBoostingClassifier(n_estimators=50)</pre><b>In a Jupyter environment, please rerun this cell to show the HTML representation or trust the notebook. <br />On GitHub, the HTML representation is unable to render, please try loading this page with nbviewer.org.</b></div><div class=\"sk-container\" hidden><div class=\"sk-item\"><div class=\"sk-estimator sk-toggleable\"><input class=\"sk-toggleable__control sk-hidden--visually\" id=\"sk-estimator-id-3\" type=\"checkbox\" checked><label for=\"sk-estimator-id-3\" class=\"sk-toggleable__label sk-toggleable__label-arrow\">GradientBoostingClassifier</label><div class=\"sk-toggleable__content\"><pre>GradientBoostingClassifier(n_estimators=50)</pre></div></div></div></div></div>"
      ],
      "text/plain": [
       "GradientBoostingClassifier(n_estimators=50)"
      ]
     },
     "execution_count": 22,
     "metadata": {},
     "output_type": "execute_result"
    }
   ],
   "source": [
    "from sklearn.ensemble import GradientBoostingClassifier\n",
    "grad_boost=GradientBoostingClassifier(n_estimators=50)\n",
    "grad_boost.fit(legit_train,mal_train)"
   ]
  },
  {
   "cell_type": "code",
   "execution_count": 23,
   "id": "6295307f-3e9e-43e9-a98d-546c1ab59bb2",
   "metadata": {},
   "outputs": [
    {
     "name": "stdout",
     "output_type": "stream",
     "text": [
      "le score pour cette entainement est :  0.9882014180030243\n"
     ]
    }
   ],
   "source": [
    "print(\"le score pour cette entainement est : \", grad_boost.score(legit_train,mal_train))"
   ]
  },
  {
   "cell_type": "markdown",
   "id": "d42dcd9b-d674-47e8-9fbc-6a9deabef25c",
   "metadata": {},
   "source": [
    "<h3> Model 98.86% : donne une prediction preceque exacte a 98%</h3>"
   ]
  },
  {
   "cell_type": "markdown",
   "id": "f698bc6a-7f59-47cf-b89e-8483198fd143",
   "metadata": {},
   "source": [
    "<h4>Alors le model le plus Précis est Random Forest </h4>"
   ]
  },
  {
   "cell_type": "markdown",
   "id": "dedd1bca-8056-45cc-b26d-74f75061e40d",
   "metadata": {},
   "source": [
    "<h1>GridSearchCV pour selection les best params pour notre model</h1>"
   ]
  },
  {
   "cell_type": "code",
   "execution_count": null,
   "id": "9aef406e-adee-4c18-b4e6-e04b43d92903",
   "metadata": {},
   "outputs": [
    {
     "name": "stdout",
     "output_type": "stream",
     "text": [
      "Fitting 5 folds for each of 324 candidates, totalling 1620 fits\n"
     ]
    }
   ],
   "source": [
    "from sklearn.model_selection import GridSearchCV\n",
    "\n",
    "param_grid = {\n",
    "    'n_estimators': [50, 100, 200],\n",
    "    'max_features': ['auto', 'sqrt', 'log2'],\n",
    "    'max_depth': [None, 10, 20, 30],\n",
    "    'min_samples_split': [2, 5, 10],\n",
    "    'min_samples_leaf': [1, 2, 4]\n",
    "}\n",
    "\n",
    "grid_search = GridSearchCV(estimator=classif, param_grid=param_grid, cv=5, n_jobs=-1, verbose=2)\n",
    "grid_search.fit(legit_train, mal_train)\n",
    "\n",
    "best_params = grid_search.best_params_\n",
    "print(f'Best parameters: {best_params}')\n"
   ]
  },
  {
   "cell_type": "code",
   "execution_count": null,
   "id": "1f12e9ac-4391-466a-8ea8-bbdaa1abe063",
   "metadata": {},
   "outputs": [],
   "source": [
    "from sklearn.model_selection import cross_val_score\n",
    "\n",
    "cv_scores = cross_val_score(classif, data_in_new, labels, cv=10)\n",
    "print(f'Cross-validation scores: {cv_scores}')\n",
    "print(f'Mean cross-validation score: {cv_scores.mean()}')\n",
    "\n"
   ]
  },
  {
   "cell_type": "code",
   "execution_count": null,
   "id": "3095220e-46b1-4755-8868-2928ad909403",
   "metadata": {},
   "outputs": [],
   "source": []
  }
 ],
 "metadata": {
  "kernelspec": {
   "display_name": "Python 3 (ipykernel)",
   "language": "python",
   "name": "python3"
  },
  "language_info": {
   "codemirror_mode": {
    "name": "ipython",
    "version": 3
   },
   "file_extension": ".py",
   "mimetype": "text/x-python",
   "name": "python",
   "nbconvert_exporter": "python",
   "pygments_lexer": "ipython3",
   "version": "3.11.6"
  }
 },
 "nbformat": 4,
 "nbformat_minor": 5
}
